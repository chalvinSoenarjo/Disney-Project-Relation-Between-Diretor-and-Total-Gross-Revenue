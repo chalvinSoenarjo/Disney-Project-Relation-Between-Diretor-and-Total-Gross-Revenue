{
 "cells": [
  {
   "cell_type": "code",
   "execution_count": null,
   "metadata": {},
   "outputs": [],
   "source": []
  },
  {
   "cell_type": "code",
   "execution_count": 20,
   "metadata": {},
   "outputs": [],
   "source": [
    "import pandas as pd\n",
    "from movie_analysis import calculate_average_gross_by_director\n"
   ]
  },
  {
   "cell_type": "code",
   "execution_count": 21,
   "metadata": {},
   "outputs": [],
   "source": [
    "movie_data = pd.DataFrame({\n",
    "    'movie_title': ['Movie1', 'Movie2', 'Movie3', 'Movie4'],\n",
    "    'director': ['Director1', 'Director2', 'Director1', 'Director2'],\n",
    "    'total_gross': [1000000, 2000000, 1500000, 2500000]\n",
    "})\n"
   ]
  },
  {
   "cell_type": "code",
   "execution_count": 22,
   "metadata": {},
   "outputs": [
    {
     "name": "stdout",
     "output_type": "stream",
     "text": [
      "Average Gross Revenue for Director1: $1250000.00\n"
     ]
    }
   ],
   "source": [
    "# Calculate the average gross revenue for 'Director1'\n",
    "average_gross = calculate_average_gross_by_director(movie_data, 'Director1')\n",
    "print(f\"Average Gross Revenue for Director1: ${average_gross:.2f}\")\n"
   ]
  },
  {
   "cell_type": "code",
   "execution_count": 23,
   "metadata": {},
   "outputs": [],
   "source": [
    "!python test_movie_analysis.py"
   ]
  },
  {
   "cell_type": "code",
   "execution_count": null,
   "metadata": {},
   "outputs": [],
   "source": []
  }
 ],
 "metadata": {
  "kernelspec": {
   "display_name": "Python 3",
   "language": "python",
   "name": "python3"
  },
  "language_info": {
   "codemirror_mode": {
    "name": "ipython",
    "version": 3
   },
   "file_extension": ".py",
   "mimetype": "text/x-python",
   "name": "python",
   "nbconvert_exporter": "python",
   "pygments_lexer": "ipython3",
   "version": "3.8.5"
  }
 },
 "nbformat": 4,
 "nbformat_minor": 4
}
